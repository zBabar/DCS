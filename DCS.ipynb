{
 "cells": [
  {
   "cell_type": "code",
   "execution_count": 1,
   "id": "baa8254d-203b-4fc1-b02b-335582566339",
   "metadata": {},
   "outputs": [],
   "source": [
    "import pandas as pd\n",
    "import numpy as np\n",
    "import json\n",
    "from sklearn.feature_extraction.text import CountVectorizer\n",
    "import re\n",
    "import nltk\n",
    "from sklearn.metrics import accuracy_score, f1_score\n",
    "from sklearn.naive_bayes import MultinomialNB\n",
    "from sklearn.multiclass import OneVsRestClassifier\n",
    "from sklearn.pipeline import Pipeline"
   ]
  },
  {
   "cell_type": "code",
   "execution_count": 2,
   "id": "ada912cd-34d4-42f6-bc7e-b3aed79f7319",
   "metadata": {},
   "outputs": [],
   "source": [
    "generated_report_path = \"/home/zaheer/pythonCode/R2Gen-main/records/iu_xray_reports.csv\"\n",
    "path='/media/zaheer/Data/Image_Text_Datasets/IU_Xray/latest/One_Image_norm_abnorm_split/r2gen_annotations/'\n",
    "\n",
    "labels = pd.read_csv('/home/zaheer/pythonCode/image_processing/IU_data/chexbert_labeling/chexbert_labels.csv').drop(columns = ['Unnamed: 0'])"
   ]
  },
  {
   "cell_type": "code",
   "execution_count": 3,
   "id": "2854d54c-bfa1-4f8f-b908-7b1793775cef",
   "metadata": {},
   "outputs": [],
   "source": [
    "def load_data():\n",
    "\n",
    "    with open(path+'new_annotation.json', 'rb') as f:\n",
    "        data = json.load(f)\n",
    "    \n",
    "    return data\n",
    "\n",
    "def load_generated_reports():  \n",
    "    \n",
    "    reports = pd.read_csv(generated_report_path)\n",
    "    \n",
    "    return reports\n",
    "\n",
    "def clean_data(text):\n",
    "    words = nltk.word_tokenize(text)\n",
    "    words = ' '.join([word.lower() for word in words if word.isalpha()])\n",
    "    return words\n",
    "\n",
    "def docTo_Mat(train, test, ngram = (1,1)):\n",
    "    \n",
    "    train=[clean_data(text) for text in train]\n",
    "    test=[clean_data(text) for text in test]\n",
    "    \n",
    "    vectorizer = CountVectorizer(stop_words='english', ngram_range = ngram, min_df=1, lowercase=True)\n",
    "    \n",
    "    train = vectorizer.fit_transform(train)\n",
    "    test = vectorizer.transform(test)\n",
    "\n",
    "\n",
    "    return train.toarray(), test.toarray()\n",
    "\n",
    "def DCS(ground_truth, mlb_predicted):\n",
    "    \n",
    "    scores = []\n",
    "    \n",
    "    for index, predict in mlb_predicted.iterrows():\n",
    "        \n",
    "        gt = ground_truth[index, :]\n",
    "        scores.append(f1_score(gt, predict))\n",
    "        \n",
    "    print(np.mean(scores))\n",
    "    \n",
    "def multi_label_prediction(train_reports, test_reports, test = 'report', ngram = (1,1)):\n",
    "    \n",
    "    X_train = train_reports['report'] \n",
    "    X_test = test_reports[test]\n",
    "    y_train = train_reports.iloc[:,2:].to_numpy()\n",
    "    y_test = test_reports.iloc[:,3:].to_numpy()\n",
    "    \n",
    "    \n",
    "    classes = train_reports.iloc[:,2:].columns\n",
    "    \n",
    "    X_train, X_test = docTo_Mat(X_train, X_test)\n",
    "    \n",
    "    mlb_predicted = pd.DataFrame([])\n",
    "    mlb_prob = pd.DataFrame([])\n",
    "    scores= pd.DataFrame([])\n",
    "    \n",
    "    NB_pipeline = Pipeline([('clf', MultinomialNB(fit_prior=True, class_prior=None))])\n",
    "    \n",
    "    for idx, category in enumerate(classes):\n",
    "        \n",
    "        NB_pipeline.fit(X_train, y_train[:,idx])\n",
    "        \n",
    "        prediction = NB_pipeline.predict(X_test)\n",
    "        prob_prediction = NB_pipeline.predict_proba(X_test)\n",
    "        \n",
    "        mlb_prob[category] = prob_prediction[:,1]\n",
    "        mlb_predicted[category] = prediction\n",
    "        \n",
    "    DCS(y_test, mlb_predicted)\n",
    "    "
   ]
  },
  {
   "cell_type": "code",
   "execution_count": 4,
   "id": "7536874f-ecd2-4e12-9230-4565e3416f76",
   "metadata": {},
   "outputs": [],
   "source": [
    "data = load_data()\n",
    "\n",
    "generated_reports = load_generated_reports()\n",
    "\n",
    "test_reports = pd.DataFrame(data['test'])\n",
    "test_reports['report_id'] = test_reports['id'].apply(lambda x: x.split('_')[0])\n",
    "test_reports.drop(columns = ['id','image_path','split'], inplace = True)\n",
    "\n",
    "train_reports = pd.DataFrame(data['train'])\n",
    "train_reports['report_id'] = train_reports['id'].apply(lambda x: x.split('_')[0])\n",
    "train_reports.drop(columns = ['id','image_path','split'], inplace = True)"
   ]
  },
  {
   "cell_type": "code",
   "execution_count": 5,
   "id": "0767df7d-9c00-419c-b238-f5cdd1b5ee60",
   "metadata": {},
   "outputs": [],
   "source": [
    "test_reports['report'] = generated_reports['gts']\n",
    "test_reports['generated_report'] = generated_reports['res']"
   ]
  },
  {
   "cell_type": "code",
   "execution_count": 6,
   "id": "38ae638d-62cf-40bf-9410-0306a486579c",
   "metadata": {},
   "outputs": [],
   "source": [
    "train_reports = pd.merge(train_reports, labels, on = 'report_id', how = 'inner')\n",
    "test_reports = pd.merge(test_reports, labels, on = 'report_id', how = 'inner')"
   ]
  },
  {
   "cell_type": "code",
   "execution_count": 7,
   "id": "8be3edb9-688c-4cd6-b8d1-30e89240cf48",
   "metadata": {},
   "outputs": [
    {
     "data": {
      "text/plain": [
       "Index(['report', 'report_id', 'generated_report', 'Enlarged Cardiomediastinum',\n",
       "       'Cardiomegaly', 'Lung Opacity', 'Lung Lesion', 'Edema', 'Consolidation',\n",
       "       'Pneumonia', 'Atelectasis', 'Pneumothorax', 'Pleural Effusion',\n",
       "       'Pleural Other', 'Fracture', 'Support Devices', 'No Finding'],\n",
       "      dtype='object')"
      ]
     },
     "execution_count": 7,
     "metadata": {},
     "output_type": "execute_result"
    }
   ],
   "source": [
    "test_reports.columns"
   ]
  },
  {
   "cell_type": "code",
   "execution_count": 8,
   "id": "6a7edba2-a759-4556-bdd7-7a81dd111b5a",
   "metadata": {},
   "outputs": [
    {
     "name": "stdout",
     "output_type": "stream",
     "text": [
      "0.7827024482109228\n"
     ]
    },
    {
     "name": "stderr",
     "output_type": "stream",
     "text": [
      "/home/zaheer/anaconda3/envs/trans_generate/lib/python3.6/site-packages/sklearn/metrics/_classification.py:1496: UndefinedMetricWarning: F-score is ill-defined and being set to 0.0 due to no true nor predicted samples. Use `zero_division` parameter to control this behavior.\n",
      "  average, \"true nor predicted\", 'F-score is', len(true_sum)\n",
      "/home/zaheer/anaconda3/envs/trans_generate/lib/python3.6/site-packages/sklearn/metrics/_classification.py:1496: UndefinedMetricWarning: F-score is ill-defined and being set to 0.0 due to no true nor predicted samples. Use `zero_division` parameter to control this behavior.\n",
      "  average, \"true nor predicted\", 'F-score is', len(true_sum)\n",
      "/home/zaheer/anaconda3/envs/trans_generate/lib/python3.6/site-packages/sklearn/metrics/_classification.py:1496: UndefinedMetricWarning: F-score is ill-defined and being set to 0.0 due to no true nor predicted samples. Use `zero_division` parameter to control this behavior.\n",
      "  average, \"true nor predicted\", 'F-score is', len(true_sum)\n",
      "/home/zaheer/anaconda3/envs/trans_generate/lib/python3.6/site-packages/sklearn/metrics/_classification.py:1496: UndefinedMetricWarning: F-score is ill-defined and being set to 0.0 due to no true nor predicted samples. Use `zero_division` parameter to control this behavior.\n",
      "  average, \"true nor predicted\", 'F-score is', len(true_sum)\n",
      "/home/zaheer/anaconda3/envs/trans_generate/lib/python3.6/site-packages/sklearn/metrics/_classification.py:1496: UndefinedMetricWarning: F-score is ill-defined and being set to 0.0 due to no true nor predicted samples. Use `zero_division` parameter to control this behavior.\n",
      "  average, \"true nor predicted\", 'F-score is', len(true_sum)\n",
      "/home/zaheer/anaconda3/envs/trans_generate/lib/python3.6/site-packages/sklearn/metrics/_classification.py:1496: UndefinedMetricWarning: F-score is ill-defined and being set to 0.0 due to no true nor predicted samples. Use `zero_division` parameter to control this behavior.\n",
      "  average, \"true nor predicted\", 'F-score is', len(true_sum)\n"
     ]
    }
   ],
   "source": [
    "multi_label_prediction(train_reports, test_reports, test = 'report', ngram = (4,4))"
   ]
  },
  {
   "cell_type": "code",
   "execution_count": 9,
   "id": "f505aa00-0642-430d-ac09-9fc98ee0b197",
   "metadata": {},
   "outputs": [
    {
     "name": "stdout",
     "output_type": "stream",
     "text": [
      "0.788135593220339\n"
     ]
    }
   ],
   "source": [
    "multi_label_prediction(train_reports, test_reports, test = 'generated_report', ngram = (4,4))"
   ]
  },
  {
   "cell_type": "code",
   "execution_count": null,
   "id": "cb882700-0045-4766-be98-1b8c342de996",
   "metadata": {},
   "outputs": [],
   "source": []
  }
 ],
 "metadata": {
  "kernelspec": {
   "display_name": "Python 3",
   "language": "python",
   "name": "python3"
  },
  "language_info": {
   "codemirror_mode": {
    "name": "ipython",
    "version": 3
   },
   "file_extension": ".py",
   "mimetype": "text/x-python",
   "name": "python",
   "nbconvert_exporter": "python",
   "pygments_lexer": "ipython3",
   "version": "3.6.13"
  }
 },
 "nbformat": 4,
 "nbformat_minor": 5
}
